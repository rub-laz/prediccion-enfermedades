{
 "cells": [
  {
   "cell_type": "code",
   "execution_count": 1,
   "id": "1e0ebb25",
   "metadata": {},
   "outputs": [],
   "source": [
    "import pandas as pd\n",
    "import matplotlib.pyplot as plt\n",
    "import seaborn as sns\n",
    "import os"
   ]
  },
  {
   "cell_type": "code",
   "execution_count": 2,
   "id": "5bf08435",
   "metadata": {},
   "outputs": [],
   "source": [
    "# Configuración de rutas\n",
    "base_dir = os.getcwd()\n",
    "fichero_path = os.path.join(\n",
    "    base_dir, \"..\", \"data\", \"raw\", \"thiroid_cancer_raw.csv\"\n",
    ")\n"
   ]
  },
  {
   "cell_type": "code",
   "execution_count": 3,
   "metadata": {},
   "outputs": [
    {
     "data": {
      "text/html": [
       "<div>\n",
       "<style scoped>\n",
       "    .dataframe tbody tr th:only-of-type {\n",
       "        vertical-align: middle;\n",
       "    }\n",
       "\n",
       "    .dataframe tbody tr th {\n",
       "        vertical-align: top;\n",
       "    }\n",
       "\n",
       "    .dataframe thead th {\n",
       "        text-align: right;\n",
       "    }\n",
       "</style>\n",
       "<table border=\"1\" class=\"dataframe\">\n",
       "  <thead>\n",
       "    <tr style=\"text-align: right;\">\n",
       "      <th></th>\n",
       "      <th>Age</th>\n",
       "      <th>Gender</th>\n",
       "      <th>Country</th>\n",
       "      <th>Ethnicity</th>\n",
       "      <th>Family_History</th>\n",
       "      <th>Radiation_Exposure</th>\n",
       "      <th>Iodine_Deficiency</th>\n",
       "      <th>Smoking</th>\n",
       "      <th>Obesity</th>\n",
       "      <th>Diabetes</th>\n",
       "      <th>TSH_Level</th>\n",
       "      <th>T3_Level</th>\n",
       "      <th>T4_Level</th>\n",
       "      <th>Nodule_Size</th>\n",
       "      <th>Diagnostico</th>\n",
       "    </tr>\n",
       "  </thead>\n",
       "  <tbody>\n",
       "    <tr>\n",
       "      <th>0</th>\n",
       "      <td>66</td>\n",
       "      <td>Male</td>\n",
       "      <td>Russia</td>\n",
       "      <td>Caucasian</td>\n",
       "      <td>No</td>\n",
       "      <td>Yes</td>\n",
       "      <td>No</td>\n",
       "      <td>No</td>\n",
       "      <td>No</td>\n",
       "      <td>No</td>\n",
       "      <td>9.37</td>\n",
       "      <td>1.67</td>\n",
       "      <td>6.16</td>\n",
       "      <td>1.08</td>\n",
       "      <td>0</td>\n",
       "    </tr>\n",
       "  </tbody>\n",
       "</table>\n",
       "</div>"
      ],
      "text/plain": [
       "   Age Gender Country  Ethnicity Family_History Radiation_Exposure  \\\n",
       "0   66   Male  Russia  Caucasian             No                Yes   \n",
       "\n",
       "  Iodine_Deficiency Smoking Obesity Diabetes  TSH_Level  T3_Level  T4_Level  \\\n",
       "0                No      No      No       No       9.37      1.67      6.16   \n",
       "\n",
       "   Nodule_Size  Diagnostico  \n",
       "0         1.08            0  "
      ]
     },
     "execution_count": 3,
     "metadata": {},
     "output_type": "execute_result"
    }
   ],
   "source": [
    "df = pd.read_csv(fichero_path)\n",
    "df.head(1)"
   ]
  },
  {
   "cell_type": "markdown",
   "id": "994f63f9",
   "metadata": {},
   "source": [
    "### Pasamos las columnas que sean de tipo object a getDummies para que las convierta en columnas con dos posibles valores 0 o 1"
   ]
  },
  {
   "cell_type": "code",
   "execution_count": 4,
   "metadata": {},
   "outputs": [
    {
     "name": "stderr",
     "output_type": "stream",
     "text": [
      "C:\\Users\\dani0\\AppData\\Local\\Temp\\ipykernel_5788\\576117047.py:3: FutureWarning: Downcasting behavior in `replace` is deprecated and will be removed in a future version. To retain the old behavior, explicitly call `result.infer_objects(copy=False)`. To opt-in to the future behavior, set `pd.set_option('future.no_silent_downcasting', True)`\n",
      "  df[col] = df[col].replace({'Yes': 1, 'No': 0})\n"
     ]
    }
   ],
   "source": [
    "for col in df.columns:\n",
    "    if df[col].dtype == 'object':  # Solo procesa columnas de tipo object\n",
    "        df[col] = df[col].replace({'Yes': 1, 'No': 0})\n",
    "dummies = pd.get_dummies(df[[\"Gender\", \"Ethnicity\",\"Country\"]], drop_first=True, dtype=int)\n",
    "df.drop(columns=[\"Gender\", \"Ethnicity\",\"Country\"], inplace = True)\n",
    "df = pd.concat([df, dummies], axis = 1)"
   ]
  },
  {
   "cell_type": "markdown",
   "id": "56cbfb9c",
   "metadata": {},
   "source": [
    "### En total 26 columnas"
   ]
  },
  {
   "cell_type": "code",
   "execution_count": 6,
   "id": "2fdbeed5",
   "metadata": {},
   "outputs": [
    {
     "data": {
      "text/plain": [
       "Index(['Age', 'Family_History', 'Radiation_Exposure', 'Iodine_Deficiency',\n",
       "       'Smoking', 'Obesity', 'Diabetes', 'TSH_Level', 'T3_Level', 'T4_Level',\n",
       "       'Nodule_Size', 'Diagnostico', 'Gender_Male', 'Ethnicity_Asian',\n",
       "       'Ethnicity_Caucasian', 'Ethnicity_Hispanic', 'Ethnicity_Middle Eastern',\n",
       "       'Country_China', 'Country_Germany', 'Country_India', 'Country_Japan',\n",
       "       'Country_Nigeria', 'Country_Russia', 'Country_South Korea',\n",
       "       'Country_UK', 'Country_USA'],\n",
       "      dtype='object')"
      ]
     },
     "execution_count": 6,
     "metadata": {},
     "output_type": "execute_result"
    }
   ],
   "source": [
    "df.columns"
   ]
  },
  {
   "cell_type": "code",
   "execution_count": null,
   "id": "20ff6410",
   "metadata": {},
   "outputs": [
    {
     "data": {
      "text/html": [
       "<div>\n",
       "<style scoped>\n",
       "    .dataframe tbody tr th:only-of-type {\n",
       "        vertical-align: middle;\n",
       "    }\n",
       "\n",
       "    .dataframe tbody tr th {\n",
       "        vertical-align: top;\n",
       "    }\n",
       "\n",
       "    .dataframe thead th {\n",
       "        text-align: right;\n",
       "    }\n",
       "</style>\n",
       "<table border=\"1\" class=\"dataframe\">\n",
       "  <thead>\n",
       "    <tr style=\"text-align: right;\">\n",
       "      <th></th>\n",
       "      <th>Age</th>\n",
       "      <th>Family_History</th>\n",
       "      <th>Radiation_Exposure</th>\n",
       "      <th>Iodine_Deficiency</th>\n",
       "      <th>Smoking</th>\n",
       "      <th>Obesity</th>\n",
       "      <th>Diabetes</th>\n",
       "      <th>TSH_Level</th>\n",
       "      <th>T3_Level</th>\n",
       "      <th>T4_Level</th>\n",
       "      <th>...</th>\n",
       "      <th>Ethnicity_Middle Eastern</th>\n",
       "      <th>Country_China</th>\n",
       "      <th>Country_Germany</th>\n",
       "      <th>Country_India</th>\n",
       "      <th>Country_Japan</th>\n",
       "      <th>Country_Nigeria</th>\n",
       "      <th>Country_Russia</th>\n",
       "      <th>Country_South Korea</th>\n",
       "      <th>Country_UK</th>\n",
       "      <th>Country_USA</th>\n",
       "    </tr>\n",
       "  </thead>\n",
       "  <tbody>\n",
       "    <tr>\n",
       "      <th>0</th>\n",
       "      <td>66</td>\n",
       "      <td>0</td>\n",
       "      <td>1</td>\n",
       "      <td>0</td>\n",
       "      <td>0</td>\n",
       "      <td>0</td>\n",
       "      <td>0</td>\n",
       "      <td>9.37</td>\n",
       "      <td>1.67</td>\n",
       "      <td>6.16</td>\n",
       "      <td>...</td>\n",
       "      <td>0</td>\n",
       "      <td>0</td>\n",
       "      <td>0</td>\n",
       "      <td>0</td>\n",
       "      <td>0</td>\n",
       "      <td>0</td>\n",
       "      <td>1</td>\n",
       "      <td>0</td>\n",
       "      <td>0</td>\n",
       "      <td>0</td>\n",
       "    </tr>\n",
       "  </tbody>\n",
       "</table>\n",
       "<p>1 rows × 26 columns</p>\n",
       "</div>"
      ],
      "text/plain": [
       "   Age  Family_History  Radiation_Exposure  Iodine_Deficiency  Smoking  \\\n",
       "0   66               0                   1                  0        0   \n",
       "\n",
       "   Obesity  Diabetes  TSH_Level  T3_Level  T4_Level  ...  \\\n",
       "0        0         0       9.37      1.67      6.16  ...   \n",
       "\n",
       "   Ethnicity_Middle Eastern  Country_China  Country_Germany  Country_India  \\\n",
       "0                         0              0                0              0   \n",
       "\n",
       "   Country_Japan  Country_Nigeria  Country_Russia  Country_South Korea  \\\n",
       "0              0                0               1                    0   \n",
       "\n",
       "   Country_UK  Country_USA  \n",
       "0           0            0  \n",
       "\n",
       "[1 rows x 26 columns]"
      ]
     },
     "execution_count": 6,
     "metadata": {},
     "output_type": "execute_result"
    }
   ],
   "source": [
    "df.head(1)"
   ]
  },
  {
   "cell_type": "code",
   "execution_count": 7,
   "id": "0648bd63",
   "metadata": {},
   "outputs": [],
   "source": [
    "base_dir = os.getcwd()\n",
    "fichero_path = os.path.join(\n",
    "    base_dir, \"..\", \"data\", \"processed\", \"thiroid_cancer_processed.csv\"\n",
    ")"
   ]
  },
  {
   "cell_type": "code",
   "execution_count": 8,
   "id": "bb94a0db",
   "metadata": {},
   "outputs": [],
   "source": [
    "df.to_csv(fichero_path, index=False)"
   ]
  }
 ],
 "metadata": {
  "kernelspec": {
   "display_name": "Python 3",
   "language": "python",
   "name": "python3"
  },
  "language_info": {
   "codemirror_mode": {
    "name": "ipython",
    "version": 3
   },
   "file_extension": ".py",
   "mimetype": "text/x-python",
   "name": "python",
   "nbconvert_exporter": "python",
   "pygments_lexer": "ipython3",
   "version": "3.12.0"
  }
 },
 "nbformat": 4,
 "nbformat_minor": 5
}
